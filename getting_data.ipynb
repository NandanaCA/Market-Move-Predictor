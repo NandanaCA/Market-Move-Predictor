{
 "cells": [
  {
   "cell_type": "code",
   "execution_count": 1,
   "id": "10378e3b-2667-4f5d-9740-f202585d74eb",
   "metadata": {},
   "outputs": [],
   "source": [
    "import pandas as pd\n",
    "import json\n",
    "import requests"
   ]
  },
  {
   "cell_type": "code",
   "execution_count": 2,
   "id": "79ff90f1-2658-4dcc-8904-0c689f0a1978",
   "metadata": {},
   "outputs": [],
   "source": [
    "stock=['INE371A01025']\n",
    "stock_list=['INE423A01024','INE742F01042','INE437A01024','INE021A01026','INE238A01034','INE917I01010','INE918I01026','INE296A01024','INE397D01024','INE029A01011','INE216A01030','INE059A01026','INE522F01014','INE361B01024','INE089A01023','INE066A01021','INE047A01021','INE860A01027','INE040A01034','INE795G01014','INE158A01026','INE038A01020','INE030A01027','INE090A01021','INE095A01012','INE009A01021','INE154A01025','INE019A01038','INE237A01028','INE018A01030','INE214T01019','INE101A01026','INE585B01010','INE239A01024','INE733E01010','INE213A01029','INE752E01010','INE002A01018','INE123W01016','INE062A01020','INE044A01036','INE192A01025','INE155A01022','INE081A01020','INE467B01029','INE669C01036','INE280A01028','INE481G01011','INE628A01036','INE075A01022' ]"
   ]
  },
  {
   "cell_type": "code",
   "execution_count": 4,
   "id": "78645b82-e00d-49e4-91bf-46b4076962ca",
   "metadata": {},
   "outputs": [],
   "source": [
    "for company in stock:\n",
    "    url=f\"https://api.upstox.com/v2/historical-candle/NSE_EQ%7C{company}/day/2023-01-01/2018-01-01\"\n",
    "    headers = {\n",
    "        'Accept': 'application/json'\n",
    "    }\n",
    "    response = requests.get(url, headers=headers)\n",
    "    data=response.json()\n",
    "    df=pd.DataFrame(data['data']['candles'],columns=[\"Time\",\"Open\",\"High\",\"Low\",\"Close\",\"Volume\",\"OpenInterest\"])\n",
    "    df.to_csv(f\"{company}.csv\", index=False)\n",
    "    \n",
    "    "
   ]
  },
  {
   "cell_type": "code",
   "execution_count": null,
   "id": "c9c8cd5f-9c73-4fe8-a9d5-01cead32ba5e",
   "metadata": {},
   "outputs": [],
   "source": []
  }
 ],
 "metadata": {
  "kernelspec": {
   "display_name": "Python 3 (ipykernel)",
   "language": "python",
   "name": "python3"
  },
  "language_info": {
   "codemirror_mode": {
    "name": "ipython",
    "version": 3
   },
   "file_extension": ".py",
   "mimetype": "text/x-python",
   "name": "python",
   "nbconvert_exporter": "python",
   "pygments_lexer": "ipython3",
   "version": "3.12.4"
  }
 },
 "nbformat": 4,
 "nbformat_minor": 5
}
