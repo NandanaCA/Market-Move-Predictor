{
 "cells": [
  {
   "cell_type": "code",
   "execution_count": 2,
   "metadata": {
    "id": "cGwOK2b9aLtm"
   },
   "outputs": [],
   "source": [
    "import pandas as pd\n",
    "import matplotlib.pyplot as plt\n",
    "import numpy as np\n",
    "from sklearn.linear_model import LinearRegression"
   ]
  },
  {
   "cell_type": "code",
   "execution_count": 3,
   "metadata": {},
   "outputs": [],
   "source": [
    "dataframes=[]\n",
    "stock_list=['INE423A01024','INE742F01042','INE437A01024','INE021A01026','INE238A01034','INE917I01010','INE918I01026','INE296A01024','INE397D01024','INE029A01011','INE216A01030','INE059A01026','INE522F01014','INE361B01024','INE089A01023','INE066A01021','INE047A01021','INE860A01027','INE040A01034','INE795G01014','INE158A01026','INE038A01020','INE030A01027','INE090A01021','INE095A01012','INE009A01021','INE154A01025','INE019A01038','INE237A01028','INE018A01030','INE214T01019','INE101A01026','INE585B01010','INE239A01024','INE733E01010','INE213A01029','INE752E01010','INE002A01018','INE123W01016','INE062A01020','INE044A01036','INE192A01025','INE155A01022','INE081A01020','INE467B01029','INE669C01036','INE280A01028','INE481G01011','INE628A01036','INE075A01022' ]"
   ]
  },
  {
   "cell_type": "code",
   "execution_count": 4,
   "metadata": {},
   "outputs": [],
   "source": [
    "def n_day_regression(n,data):\n",
    "  lr=LinearRegression()\n",
    "  X=list(range(n))\n",
    "  X=np.array(X)\n",
    "\n",
    "  _varname_ = f'{n}_reg'\n",
    "  data[_varname_]=np.nan\n",
    "\n",
    "  for i in range(n-1,len(data)):\n",
    "    y=[]\n",
    "    for j in range(0,n):\n",
    "      y.append(data[\"Close\"][i-j])\n",
    "    y=y[::-1]\n",
    "    y=np.array(y)\n",
    "    X=X.reshape(X.shape[0],1)\n",
    "    y=y.reshape(y.shape[0],1)\n",
    "    lr.fit(X,y)\n",
    "    coef=lr.coef_[0][0]\n",
    "    data.loc[i,_varname_]=coef\n",
    "\n",
    "  return data"
   ]
  },
  {
   "cell_type": "code",
   "execution_count": 5,
   "metadata": {},
   "outputs": [],
   "source": [
    "def local_maxima_minima(data,n=5):\n",
    "\n",
    "  data[\"local_min\"]=np.nan\n",
    "  data[\"local_max\"]=np.nan\n",
    "  print(len(data))\n",
    "  for i in range(n,len(data)-n):\n",
    "    l = data[\"Close\"][i-n:i+n]\n",
    "    if data[\"Close\"][i]==min(l):\n",
    "      data.loc[i,\"local_min\"]=1\n",
    "      data.loc[i,\"local_max\"]=0\n",
    "    elif data[\"Close\"][i]==max(l):\n",
    "\n",
    "      data.loc[i,\"local_max\"]=1\n",
    "      data.loc[i,\"local_min\"]=0\n",
    "    else:\n",
    "      data.loc[i,\"local_max\"]=0\n",
    "      data.loc[i,\"local_min\"]=0\n",
    "\n",
    "  return data"
   ]
  },
  {
   "cell_type": "code",
   "execution_count": 6,
   "metadata": {},
   "outputs": [
    {
     "name": "stdout",
     "output_type": "stream",
     "text": [
      "1238\n",
      "1238\n",
      "1238\n",
      "1238\n",
      "1238\n",
      "1238\n",
      "1238\n",
      "1238\n",
      "1238\n",
      "1238\n",
      "1238\n",
      "1238\n",
      "1238\n",
      "1238\n",
      "1238\n",
      "1238\n",
      "1238\n",
      "1238\n",
      "1238\n",
      "1238\n",
      "1238\n",
      "1238\n",
      "1238\n",
      "1238\n",
      "1238\n",
      "1238\n",
      "1238\n",
      "1238\n",
      "1238\n",
      "1238\n",
      "1238\n",
      "1238\n",
      "1238\n",
      "1238\n",
      "1238\n",
      "1238\n",
      "1238\n",
      "1239\n",
      "1238\n",
      "1238\n",
      "1238\n",
      "1238\n",
      "1238\n",
      "1238\n",
      "1238\n",
      "1238\n",
      "1238\n",
      "1238\n",
      "1238\n",
      "1238\n"
     ]
    }
   ],
   "source": [
    "for i in stock_list:\n",
    "    data = pd.read_csv(f\"./data/{i}.csv\")\n",
    "    data['Normalised_value'] = (data['Close'] - data['Low']) / (data['High'] - data['Low'])\n",
    "    data_tmp=data.copy()\n",
    "\n",
    "    data['Normalised_value'] = (data['Close'] - data['Low']) / (data['High'] - data['Low'])\n",
    "    \n",
    "    data_tmp2=local_maxima_minima(data_tmp)\n",
    "    local_minima_indices = np.where(data_tmp2['local_min'] > 0)[0]\n",
    "    local_maxima_indices = np.where(data_tmp2['local_max'] > 0)[0]\n",
    "    \n",
    "    data_tmp2=n_day_regression(3,data_tmp2)\n",
    "    data_tmp2=n_day_regression(5,data_tmp2)\n",
    "    data_tmp2=n_day_regression(10,data_tmp2)\n",
    "    data_tmp2=n_day_regression(20,data_tmp2)\n",
    "\n",
    "    extremity_data=data_tmp2[(data_tmp2['local_min'] > 0) | (data_tmp2['local_max'] > 0)].reset_index(drop = True)\n",
    "    extremity_data=extremity_data.dropna()\n",
    "\n",
    "    extremity_data[\"target\"]=[1 if x > 0 else 0 for x in extremity_data.local_max]\n",
    "    extremity_data=extremity_data.drop([\"Time\",\"Open\",\"Close\",\"High\",\"Low\",\"OpenInterest\",\"local_min\",\"local_max\"],axis=1).reset_index(drop=True)\n",
    "\n",
    "    dataframes.append(extremity_data)\n",
    "\n",
    "\n",
    "    \n",
    "\n"
   ]
  },
  {
   "cell_type": "code",
   "execution_count": 9,
   "metadata": {},
   "outputs": [],
   "source": [
    "merged_df_minima = pd.concat(dataframes_minima, ignore_index=True)\n",
    "merged_df_maxima = pd.concat(dataframes_maxima, ignore_index=True)"
   ]
  },
  {
   "cell_type": "code",
   "execution_count": 10,
   "metadata": {},
   "outputs": [],
   "source": [
    "merged_df_minima.to_csv('merged_minima_data.csv', index=False)\n",
    "merged_df_maxima.to_csv('merged_maxima_data.csv', index=False)"
   ]
  },
  {
   "cell_type": "code",
   "execution_count": null,
   "metadata": {},
   "outputs": [],
   "source": []
  }
 ],
 "metadata": {
  "colab": {
   "provenance": [],
   "toc_visible": true
  },
  "kernelspec": {
   "display_name": "Python 3 (ipykernel)",
   "language": "python",
   "name": "python3"
  },
  "language_info": {
   "codemirror_mode": {
    "name": "ipython",
    "version": 3
   },
   "file_extension": ".py",
   "mimetype": "text/x-python",
   "name": "python",
   "nbconvert_exporter": "python",
   "pygments_lexer": "ipython3",
   "version": "3.12.4"
  }
 },
 "nbformat": 4,
 "nbformat_minor": 4
}
